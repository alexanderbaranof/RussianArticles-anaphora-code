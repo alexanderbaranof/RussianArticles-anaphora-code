{
 "cells": [
  {
   "cell_type": "markdown",
   "metadata": {},
   "source": [
    "# Пример разрешения анафоры без учета расстояния между возможными парами Референт-Анафор"
   ]
  },
  {
   "cell_type": "code",
   "execution_count": 1,
   "metadata": {},
   "outputs": [],
   "source": [
    "UPIPE_MODEL_PATH = './russian-taiga-ud-2.3-181115.udpipe'"
   ]
  },
  {
   "cell_type": "code",
   "execution_count": 498,
   "metadata": {},
   "outputs": [],
   "source": [
    "from catboost import CatBoostClassifier, Pool"
   ]
  },
  {
   "cell_type": "code",
   "execution_count": 499,
   "metadata": {},
   "outputs": [],
   "source": [
    "import pandas as pd"
   ]
  },
  {
   "cell_type": "code",
   "execution_count": 500,
   "metadata": {},
   "outputs": [],
   "source": [
    "data = pd.read_csv('final.csv')"
   ]
  },
  {
   "cell_type": "code",
   "execution_count": 501,
   "metadata": {},
   "outputs": [
    {
     "data": {
      "text/plain": [
       "(694, 13)"
      ]
     },
     "execution_count": 501,
     "metadata": {},
     "output_type": "execute_result"
    }
   ],
   "source": [
    "data.shape"
   ]
  },
  {
   "cell_type": "code",
   "execution_count": 502,
   "metadata": {},
   "outputs": [],
   "source": [
    "data = data.fillna(' ')"
   ]
  },
  {
   "cell_type": "code",
   "execution_count": 504,
   "metadata": {},
   "outputs": [],
   "source": [
    "y_data =  data['label']"
   ]
  },
  {
   "cell_type": "code",
   "execution_count": 505,
   "metadata": {},
   "outputs": [],
   "source": [
    "x_data = data.drop(labels=['label', 'Unnamed: 0', 'delta'], axis=1)"
   ]
  },
  {
   "cell_type": "code",
   "execution_count": 507,
   "metadata": {},
   "outputs": [],
   "source": [
    "from sklearn.model_selection import train_test_split"
   ]
  },
  {
   "cell_type": "code",
   "execution_count": 508,
   "metadata": {},
   "outputs": [],
   "source": [
    "X_train, X_test, y_train, y_test = train_test_split(x_data, y_data, test_size=0.2)"
   ]
  },
  {
   "cell_type": "code",
   "execution_count": 509,
   "metadata": {},
   "outputs": [],
   "source": [
    "modelCB = CatBoostClassifier(iterations=10, depth=4)"
   ]
  },
  {
   "cell_type": "code",
   "execution_count": 510,
   "metadata": {},
   "outputs": [
    {
     "data": {
      "text/html": [
       "<div>\n",
       "<style scoped>\n",
       "    .dataframe tbody tr th:only-of-type {\n",
       "        vertical-align: middle;\n",
       "    }\n",
       "\n",
       "    .dataframe tbody tr th {\n",
       "        vertical-align: top;\n",
       "    }\n",
       "\n",
       "    .dataframe thead th {\n",
       "        text-align: right;\n",
       "    }\n",
       "</style>\n",
       "<table border=\"1\" class=\"dataframe\">\n",
       "  <thead>\n",
       "    <tr style=\"text-align: right;\">\n",
       "      <th></th>\n",
       "      <th>UPosTag</th>\n",
       "      <th>Animacy</th>\n",
       "      <th>Number</th>\n",
       "      <th>Case</th>\n",
       "      <th>Gender</th>\n",
       "      <th>UPosTag.1</th>\n",
       "      <th>Number.1</th>\n",
       "      <th>Person</th>\n",
       "      <th>Case.1</th>\n",
       "      <th>Gender.1</th>\n",
       "    </tr>\n",
       "  </thead>\n",
       "  <tbody>\n",
       "    <tr>\n",
       "      <th>0</th>\n",
       "      <td>NOUN</td>\n",
       "      <td>Inan</td>\n",
       "      <td>Sing</td>\n",
       "      <td>Ins</td>\n",
       "      <td>Masc</td>\n",
       "      <td>PRON</td>\n",
       "      <td>Sing</td>\n",
       "      <td>3</td>\n",
       "      <td>Gen</td>\n",
       "      <td>Masc</td>\n",
       "    </tr>\n",
       "    <tr>\n",
       "      <th>1</th>\n",
       "      <td>NOUN</td>\n",
       "      <td>Anim</td>\n",
       "      <td>Plur</td>\n",
       "      <td>Loc</td>\n",
       "      <td>Masc</td>\n",
       "      <td>PRON</td>\n",
       "      <td>Sing</td>\n",
       "      <td>3</td>\n",
       "      <td>Gen</td>\n",
       "      <td>Masc</td>\n",
       "    </tr>\n",
       "    <tr>\n",
       "      <th>2</th>\n",
       "      <td>NOUN</td>\n",
       "      <td>Inan</td>\n",
       "      <td>Sing</td>\n",
       "      <td>Nom</td>\n",
       "      <td>Neut</td>\n",
       "      <td>PRON</td>\n",
       "      <td>Sing</td>\n",
       "      <td>3</td>\n",
       "      <td>Gen</td>\n",
       "      <td>Masc</td>\n",
       "    </tr>\n",
       "    <tr>\n",
       "      <th>3</th>\n",
       "      <td>NOUN</td>\n",
       "      <td>Inan</td>\n",
       "      <td>Sing</td>\n",
       "      <td>Gen</td>\n",
       "      <td>Fem</td>\n",
       "      <td>DET</td>\n",
       "      <td></td>\n",
       "      <td></td>\n",
       "      <td></td>\n",
       "      <td></td>\n",
       "    </tr>\n",
       "    <tr>\n",
       "      <th>4</th>\n",
       "      <td>NOUN</td>\n",
       "      <td>Inan</td>\n",
       "      <td>Sing</td>\n",
       "      <td>Nom</td>\n",
       "      <td>Masc</td>\n",
       "      <td>PRON</td>\n",
       "      <td>Plur</td>\n",
       "      <td>3</td>\n",
       "      <td>Gen</td>\n",
       "      <td></td>\n",
       "    </tr>\n",
       "  </tbody>\n",
       "</table>\n",
       "</div>"
      ],
      "text/plain": [
       "  UPosTag Animacy Number Case Gender UPosTag.1 Number.1 Person Case.1 Gender.1\n",
       "0    NOUN    Inan   Sing  Ins   Masc      PRON     Sing      3    Gen     Masc\n",
       "1    NOUN    Anim   Plur  Loc   Masc      PRON     Sing      3    Gen     Masc\n",
       "2    NOUN    Inan   Sing  Nom   Neut      PRON     Sing      3    Gen     Masc\n",
       "3    NOUN    Inan   Sing  Gen    Fem       DET                                \n",
       "4    NOUN    Inan   Sing  Nom   Masc      PRON     Plur      3    Gen         "
      ]
     },
     "execution_count": 510,
     "metadata": {},
     "output_type": "execute_result"
    }
   ],
   "source": [
    "x_data.head()"
   ]
  },
  {
   "cell_type": "code",
   "execution_count": 511,
   "metadata": {},
   "outputs": [],
   "source": [
    "cat_features = [0, 1, 2, 3, 4, 5, 6, 7, 8, 9]"
   ]
  },
  {
   "cell_type": "code",
   "execution_count": 512,
   "metadata": {},
   "outputs": [],
   "source": [
    "train_dataset = Pool(data=X_train,\n",
    "                     label=y_train,\n",
    "                     cat_features=cat_features)\n",
    "\n",
    "test_dataset = Pool(data=X_test,\n",
    "                    label=y_test,\n",
    "                    cat_features=cat_features)"
   ]
  },
  {
   "cell_type": "code",
   "execution_count": 513,
   "metadata": {},
   "outputs": [
    {
     "name": "stdout",
     "output_type": "stream",
     "text": [
      "Learning rate set to 0.5\n",
      "0:\tlearn: 0.6320431\ttotal: 2.94ms\tremaining: 26.4ms\n",
      "1:\tlearn: 0.5977161\ttotal: 5.86ms\tremaining: 23.4ms\n",
      "2:\tlearn: 0.5807265\ttotal: 8.65ms\tremaining: 20.2ms\n",
      "3:\tlearn: 0.5702800\ttotal: 12.8ms\tremaining: 19.2ms\n",
      "4:\tlearn: 0.5622278\ttotal: 16.9ms\tremaining: 16.9ms\n",
      "5:\tlearn: 0.5470554\ttotal: 18.8ms\tremaining: 12.5ms\n",
      "6:\tlearn: 0.5398186\ttotal: 20.9ms\tremaining: 8.97ms\n",
      "7:\tlearn: 0.5276466\ttotal: 23.5ms\tremaining: 5.88ms\n",
      "8:\tlearn: 0.5244456\ttotal: 27.6ms\tremaining: 3.06ms\n",
      "9:\tlearn: 0.5234573\ttotal: 29.6ms\tremaining: 0us\n"
     ]
    },
    {
     "data": {
      "text/plain": [
       "<catboost.core.CatBoostClassifier at 0x7f6fe01a6160>"
      ]
     },
     "execution_count": 513,
     "metadata": {},
     "output_type": "execute_result"
    }
   ],
   "source": [
    "modelCB.fit(train_dataset)"
   ]
  },
  {
   "cell_type": "code",
   "execution_count": 514,
   "metadata": {},
   "outputs": [],
   "source": [
    "predicted = modelCB.predict(test_dataset)"
   ]
  },
  {
   "cell_type": "code",
   "execution_count": 515,
   "metadata": {},
   "outputs": [],
   "source": [
    "from sklearn.metrics import classification_report"
   ]
  },
  {
   "cell_type": "code",
   "execution_count": 516,
   "metadata": {},
   "outputs": [
    {
     "name": "stdout",
     "output_type": "stream",
     "text": [
      "              precision    recall  f1-score   support\n",
      "\n",
      "           0       0.69      0.75      0.72        72\n",
      "           1       0.70      0.64      0.67        67\n",
      "\n",
      "   micro avg       0.70      0.70      0.70       139\n",
      "   macro avg       0.70      0.70      0.70       139\n",
      "weighted avg       0.70      0.70      0.70       139\n",
      "\n"
     ]
    }
   ],
   "source": [
    "print(classification_report(y_test.values.tolist(), predicted))"
   ]
  },
  {
   "cell_type": "code",
   "execution_count": 517,
   "metadata": {},
   "outputs": [],
   "source": [
    "text = 'Поэтому в фильтрационных задачах этот грунт можно принимать за относительный водоупор. При этом не исключается фильтрация воды через него.'"
   ]
  },
  {
   "cell_type": "code",
   "execution_count": 518,
   "metadata": {},
   "outputs": [],
   "source": [
    "from ufal.udpipe import Model, Pipeline, ProcessingError\n",
    "model = Model.load(UPIPE_MODEL_PATH)\n",
    "pipeline = Pipeline(model, 'tokenize', Pipeline.DEFAULT, Pipeline.DEFAULT, Pipeline.DEFAULT)"
   ]
  },
  {
   "cell_type": "code",
   "execution_count": 519,
   "metadata": {},
   "outputs": [],
   "source": [
    "def text2pdudpipe(text, model, pipeline):\n",
    "    processed = pipeline.process(text)\n",
    "    processed = processed.split('\\n')\n",
    "    data = pd.DataFrame(columns=['id', 'form', 'lemma', 'UPosTag', 'XPosTag', 'Feats', 'Head', 'DepRel', 'Deps', 'Misc'])\n",
    "    for line in processed:\n",
    "        if '#' not in line and line != '':\n",
    "            data = data.append({\n",
    "                'id': line.split('\\t')[0],\n",
    "                'form':line.split('\\t')[1],\n",
    "                'lemma':line.split('\\t')[2],\n",
    "                'UPosTag':line.split('\\t')[3],\n",
    "                'XPosTag':line.split('\\t')[4],\n",
    "                'Feats':line.split('\\t')[5],\n",
    "                'Head':line.split('\\t')[6],\n",
    "                'DepRel':line.split('\\t')[7],\n",
    "                'Deps':line.split('\\t')[8],\n",
    "                'Misc':line.split('\\t')[9]\n",
    "            }, ignore_index=True)\n",
    "    #за первый проход находим все разные возможные колонки\n",
    "    cols = list()\n",
    "    for i in range(data.shape[0]):\n",
    "        if '|' in data.Feats[i]:\n",
    "            tmp_data = data.Feats[i].split('|')\n",
    "            for j in tmp_data:\n",
    "                cols.append(j.split('=')[0])\n",
    "    cols = list(set(cols))\n",
    "    for i in range(len(cols)):\n",
    "        data[cols[i]] = pd.np.nan\n",
    "    for i in range(data.shape[0]):\n",
    "        if '|' in data.Feats[i]:\n",
    "            tmp_data = data.Feats[i].split('|')\n",
    "            for j in tmp_data:\n",
    "                data[j.split('=')[0]][i] = j.split('=')[1]\n",
    "    data.insert(1, 'number_of_sent', pd.np.nan)\n",
    "    n = 1\n",
    "    for i in range(data.shape[0]-1):\n",
    "        if data.iloc[i,0] < data.iloc[i+1,0]:\n",
    "            data.iloc[i,1] = n\n",
    "        else:\n",
    "            data.iloc[i,1] = n\n",
    "            n+=1\n",
    "    data.iloc[data.shape[0]-1,1] = n\n",
    "    return data"
   ]
  },
  {
   "cell_type": "code",
   "execution_count": 520,
   "metadata": {},
   "outputs": [
    {
     "name": "stderr",
     "output_type": "stream",
     "text": [
      "/usr/local/lib/python3.7/site-packages/ipykernel_launcher.py:33: SettingWithCopyWarning: \n",
      "A value is trying to be set on a copy of a slice from a DataFrame\n",
      "\n",
      "See the caveats in the documentation: http://pandas.pydata.org/pandas-docs/stable/indexing.html#indexing-view-versus-copy\n",
      "/usr/local/lib64/python3.7/site-packages/pandas/core/indexing.py:189: SettingWithCopyWarning: \n",
      "A value is trying to be set on a copy of a slice from a DataFrame\n",
      "\n",
      "See the caveats in the documentation: http://pandas.pydata.org/pandas-docs/stable/indexing.html#indexing-view-versus-copy\n",
      "  self._setitem_with_indexer(indexer, value)\n"
     ]
    }
   ],
   "source": [
    "data = text2pdudpipe(text, model, pipeline)"
   ]
  },
  {
   "cell_type": "code",
   "execution_count": 521,
   "metadata": {},
   "outputs": [
    {
     "data": {
      "text/html": [
       "<div>\n",
       "<style scoped>\n",
       "    .dataframe tbody tr th:only-of-type {\n",
       "        vertical-align: middle;\n",
       "    }\n",
       "\n",
       "    .dataframe tbody tr th {\n",
       "        vertical-align: top;\n",
       "    }\n",
       "\n",
       "    .dataframe thead th {\n",
       "        text-align: right;\n",
       "    }\n",
       "</style>\n",
       "<table border=\"1\" class=\"dataframe\">\n",
       "  <thead>\n",
       "    <tr style=\"text-align: right;\">\n",
       "      <th></th>\n",
       "      <th>id</th>\n",
       "      <th>number_of_sent</th>\n",
       "      <th>form</th>\n",
       "      <th>lemma</th>\n",
       "      <th>UPosTag</th>\n",
       "      <th>XPosTag</th>\n",
       "      <th>Feats</th>\n",
       "      <th>Head</th>\n",
       "      <th>DepRel</th>\n",
       "      <th>Deps</th>\n",
       "      <th>...</th>\n",
       "      <th>Gender</th>\n",
       "      <th>Mood</th>\n",
       "      <th>Tense</th>\n",
       "      <th>Number</th>\n",
       "      <th>Person</th>\n",
       "      <th>Case</th>\n",
       "      <th>Animacy</th>\n",
       "      <th>Voice</th>\n",
       "      <th>VerbForm</th>\n",
       "      <th>Aspect</th>\n",
       "    </tr>\n",
       "  </thead>\n",
       "  <tbody>\n",
       "    <tr>\n",
       "      <th>0</th>\n",
       "      <td>1</td>\n",
       "      <td>1.0</td>\n",
       "      <td>Поэтому</td>\n",
       "      <td>поэтому</td>\n",
       "      <td>ADV</td>\n",
       "      <td>_</td>\n",
       "      <td>Degree=Pos</td>\n",
       "      <td>7</td>\n",
       "      <td>advmod</td>\n",
       "      <td>_</td>\n",
       "      <td>...</td>\n",
       "      <td>NaN</td>\n",
       "      <td>NaN</td>\n",
       "      <td>NaN</td>\n",
       "      <td>NaN</td>\n",
       "      <td>NaN</td>\n",
       "      <td>NaN</td>\n",
       "      <td>NaN</td>\n",
       "      <td>NaN</td>\n",
       "      <td>NaN</td>\n",
       "      <td>NaN</td>\n",
       "    </tr>\n",
       "    <tr>\n",
       "      <th>1</th>\n",
       "      <td>2</td>\n",
       "      <td>1.0</td>\n",
       "      <td>в</td>\n",
       "      <td>в</td>\n",
       "      <td>ADP</td>\n",
       "      <td>_</td>\n",
       "      <td>_</td>\n",
       "      <td>4</td>\n",
       "      <td>case</td>\n",
       "      <td>_</td>\n",
       "      <td>...</td>\n",
       "      <td>NaN</td>\n",
       "      <td>NaN</td>\n",
       "      <td>NaN</td>\n",
       "      <td>NaN</td>\n",
       "      <td>NaN</td>\n",
       "      <td>NaN</td>\n",
       "      <td>NaN</td>\n",
       "      <td>NaN</td>\n",
       "      <td>NaN</td>\n",
       "      <td>NaN</td>\n",
       "    </tr>\n",
       "    <tr>\n",
       "      <th>2</th>\n",
       "      <td>3</td>\n",
       "      <td>1.0</td>\n",
       "      <td>фильтрационных</td>\n",
       "      <td>фильтрационный</td>\n",
       "      <td>ADJ</td>\n",
       "      <td>_</td>\n",
       "      <td>Case=Loc|Degree=Pos|Number=Plur</td>\n",
       "      <td>4</td>\n",
       "      <td>amod</td>\n",
       "      <td>_</td>\n",
       "      <td>...</td>\n",
       "      <td>NaN</td>\n",
       "      <td>NaN</td>\n",
       "      <td>NaN</td>\n",
       "      <td>Plur</td>\n",
       "      <td>NaN</td>\n",
       "      <td>Loc</td>\n",
       "      <td>NaN</td>\n",
       "      <td>NaN</td>\n",
       "      <td>NaN</td>\n",
       "      <td>NaN</td>\n",
       "    </tr>\n",
       "    <tr>\n",
       "      <th>3</th>\n",
       "      <td>4</td>\n",
       "      <td>1.0</td>\n",
       "      <td>задачах</td>\n",
       "      <td>задач</td>\n",
       "      <td>NOUN</td>\n",
       "      <td>_</td>\n",
       "      <td>Animacy=Inan|Case=Loc|Gender=Masc|Number=Plur</td>\n",
       "      <td>7</td>\n",
       "      <td>obl</td>\n",
       "      <td>_</td>\n",
       "      <td>...</td>\n",
       "      <td>Masc</td>\n",
       "      <td>NaN</td>\n",
       "      <td>NaN</td>\n",
       "      <td>Plur</td>\n",
       "      <td>NaN</td>\n",
       "      <td>Loc</td>\n",
       "      <td>Inan</td>\n",
       "      <td>NaN</td>\n",
       "      <td>NaN</td>\n",
       "      <td>NaN</td>\n",
       "    </tr>\n",
       "    <tr>\n",
       "      <th>4</th>\n",
       "      <td>5</td>\n",
       "      <td>1.0</td>\n",
       "      <td>этот</td>\n",
       "      <td>этот</td>\n",
       "      <td>DET</td>\n",
       "      <td>_</td>\n",
       "      <td>Animacy=Inan|Case=Acc|Gender=Masc|Number=Sing</td>\n",
       "      <td>6</td>\n",
       "      <td>det</td>\n",
       "      <td>_</td>\n",
       "      <td>...</td>\n",
       "      <td>Masc</td>\n",
       "      <td>NaN</td>\n",
       "      <td>NaN</td>\n",
       "      <td>Sing</td>\n",
       "      <td>NaN</td>\n",
       "      <td>Acc</td>\n",
       "      <td>Inan</td>\n",
       "      <td>NaN</td>\n",
       "      <td>NaN</td>\n",
       "      <td>NaN</td>\n",
       "    </tr>\n",
       "    <tr>\n",
       "      <th>5</th>\n",
       "      <td>6</td>\n",
       "      <td>1.0</td>\n",
       "      <td>грунт</td>\n",
       "      <td>грунт</td>\n",
       "      <td>NOUN</td>\n",
       "      <td>_</td>\n",
       "      <td>Animacy=Inan|Case=Acc|Gender=Masc|Number=Sing</td>\n",
       "      <td>7</td>\n",
       "      <td>obj</td>\n",
       "      <td>_</td>\n",
       "      <td>...</td>\n",
       "      <td>Masc</td>\n",
       "      <td>NaN</td>\n",
       "      <td>NaN</td>\n",
       "      <td>Sing</td>\n",
       "      <td>NaN</td>\n",
       "      <td>Acc</td>\n",
       "      <td>Inan</td>\n",
       "      <td>NaN</td>\n",
       "      <td>NaN</td>\n",
       "      <td>NaN</td>\n",
       "    </tr>\n",
       "    <tr>\n",
       "      <th>6</th>\n",
       "      <td>7</td>\n",
       "      <td>1.0</td>\n",
       "      <td>можно</td>\n",
       "      <td>можно</td>\n",
       "      <td>VERB</td>\n",
       "      <td>_</td>\n",
       "      <td>Degree=Pos</td>\n",
       "      <td>0</td>\n",
       "      <td>root</td>\n",
       "      <td>_</td>\n",
       "      <td>...</td>\n",
       "      <td>NaN</td>\n",
       "      <td>NaN</td>\n",
       "      <td>NaN</td>\n",
       "      <td>NaN</td>\n",
       "      <td>NaN</td>\n",
       "      <td>NaN</td>\n",
       "      <td>NaN</td>\n",
       "      <td>NaN</td>\n",
       "      <td>NaN</td>\n",
       "      <td>NaN</td>\n",
       "    </tr>\n",
       "    <tr>\n",
       "      <th>7</th>\n",
       "      <td>8</td>\n",
       "      <td>1.0</td>\n",
       "      <td>принимать</td>\n",
       "      <td>принимать</td>\n",
       "      <td>VERB</td>\n",
       "      <td>_</td>\n",
       "      <td>Aspect=Perf|VerbForm=Inf|Voice=Act</td>\n",
       "      <td>7</td>\n",
       "      <td>xcomp</td>\n",
       "      <td>_</td>\n",
       "      <td>...</td>\n",
       "      <td>NaN</td>\n",
       "      <td>NaN</td>\n",
       "      <td>NaN</td>\n",
       "      <td>NaN</td>\n",
       "      <td>NaN</td>\n",
       "      <td>NaN</td>\n",
       "      <td>NaN</td>\n",
       "      <td>Act</td>\n",
       "      <td>inf</td>\n",
       "      <td>Perf</td>\n",
       "    </tr>\n",
       "    <tr>\n",
       "      <th>8</th>\n",
       "      <td>9</td>\n",
       "      <td>1.0</td>\n",
       "      <td>за</td>\n",
       "      <td>за</td>\n",
       "      <td>ADP</td>\n",
       "      <td>_</td>\n",
       "      <td>_</td>\n",
       "      <td>11</td>\n",
       "      <td>case</td>\n",
       "      <td>_</td>\n",
       "      <td>...</td>\n",
       "      <td>NaN</td>\n",
       "      <td>NaN</td>\n",
       "      <td>NaN</td>\n",
       "      <td>NaN</td>\n",
       "      <td>NaN</td>\n",
       "      <td>NaN</td>\n",
       "      <td>NaN</td>\n",
       "      <td>NaN</td>\n",
       "      <td>NaN</td>\n",
       "      <td>NaN</td>\n",
       "    </tr>\n",
       "    <tr>\n",
       "      <th>9</th>\n",
       "      <td>10</td>\n",
       "      <td>2.0</td>\n",
       "      <td>относительный</td>\n",
       "      <td>относительный</td>\n",
       "      <td>ADJ</td>\n",
       "      <td>_</td>\n",
       "      <td>Animacy=Inan|Case=Acc|Degree=Pos|Gender=Masc|N...</td>\n",
       "      <td>11</td>\n",
       "      <td>amod</td>\n",
       "      <td>_</td>\n",
       "      <td>...</td>\n",
       "      <td>Masc</td>\n",
       "      <td>NaN</td>\n",
       "      <td>NaN</td>\n",
       "      <td>Sing</td>\n",
       "      <td>NaN</td>\n",
       "      <td>Acc</td>\n",
       "      <td>Inan</td>\n",
       "      <td>NaN</td>\n",
       "      <td>NaN</td>\n",
       "      <td>NaN</td>\n",
       "    </tr>\n",
       "    <tr>\n",
       "      <th>10</th>\n",
       "      <td>11</td>\n",
       "      <td>2.0</td>\n",
       "      <td>водоупор</td>\n",
       "      <td>водоупор</td>\n",
       "      <td>NOUN</td>\n",
       "      <td>_</td>\n",
       "      <td>Animacy=Inan|Case=Acc|Gender=Masc|Number=Sing</td>\n",
       "      <td>8</td>\n",
       "      <td>obl</td>\n",
       "      <td>_</td>\n",
       "      <td>...</td>\n",
       "      <td>Masc</td>\n",
       "      <td>NaN</td>\n",
       "      <td>NaN</td>\n",
       "      <td>Sing</td>\n",
       "      <td>NaN</td>\n",
       "      <td>Acc</td>\n",
       "      <td>Inan</td>\n",
       "      <td>NaN</td>\n",
       "      <td>NaN</td>\n",
       "      <td>NaN</td>\n",
       "    </tr>\n",
       "    <tr>\n",
       "      <th>11</th>\n",
       "      <td>12</td>\n",
       "      <td>2.0</td>\n",
       "      <td>.</td>\n",
       "      <td>.</td>\n",
       "      <td>PUNCT</td>\n",
       "      <td>_</td>\n",
       "      <td>_</td>\n",
       "      <td>7</td>\n",
       "      <td>punct</td>\n",
       "      <td>_</td>\n",
       "      <td>...</td>\n",
       "      <td>NaN</td>\n",
       "      <td>NaN</td>\n",
       "      <td>NaN</td>\n",
       "      <td>NaN</td>\n",
       "      <td>NaN</td>\n",
       "      <td>NaN</td>\n",
       "      <td>NaN</td>\n",
       "      <td>NaN</td>\n",
       "      <td>NaN</td>\n",
       "      <td>NaN</td>\n",
       "    </tr>\n",
       "    <tr>\n",
       "      <th>12</th>\n",
       "      <td>1</td>\n",
       "      <td>3.0</td>\n",
       "      <td>При</td>\n",
       "      <td>при</td>\n",
       "      <td>ADP</td>\n",
       "      <td>_</td>\n",
       "      <td>_</td>\n",
       "      <td>2</td>\n",
       "      <td>case</td>\n",
       "      <td>_</td>\n",
       "      <td>...</td>\n",
       "      <td>NaN</td>\n",
       "      <td>NaN</td>\n",
       "      <td>NaN</td>\n",
       "      <td>NaN</td>\n",
       "      <td>NaN</td>\n",
       "      <td>NaN</td>\n",
       "      <td>NaN</td>\n",
       "      <td>NaN</td>\n",
       "      <td>NaN</td>\n",
       "      <td>NaN</td>\n",
       "    </tr>\n",
       "    <tr>\n",
       "      <th>13</th>\n",
       "      <td>2</td>\n",
       "      <td>3.0</td>\n",
       "      <td>этом</td>\n",
       "      <td>это</td>\n",
       "      <td>PRON</td>\n",
       "      <td>_</td>\n",
       "      <td>Animacy=Inan|Case=Loc|Gender=Neut|Number=Sing</td>\n",
       "      <td>4</td>\n",
       "      <td>obl</td>\n",
       "      <td>_</td>\n",
       "      <td>...</td>\n",
       "      <td>Neut</td>\n",
       "      <td>NaN</td>\n",
       "      <td>NaN</td>\n",
       "      <td>Sing</td>\n",
       "      <td>NaN</td>\n",
       "      <td>Loc</td>\n",
       "      <td>Inan</td>\n",
       "      <td>NaN</td>\n",
       "      <td>NaN</td>\n",
       "      <td>NaN</td>\n",
       "    </tr>\n",
       "    <tr>\n",
       "      <th>14</th>\n",
       "      <td>3</td>\n",
       "      <td>3.0</td>\n",
       "      <td>не</td>\n",
       "      <td>не</td>\n",
       "      <td>PART</td>\n",
       "      <td>_</td>\n",
       "      <td>Polarity=Neg</td>\n",
       "      <td>4</td>\n",
       "      <td>advmod</td>\n",
       "      <td>_</td>\n",
       "      <td>...</td>\n",
       "      <td>NaN</td>\n",
       "      <td>NaN</td>\n",
       "      <td>NaN</td>\n",
       "      <td>NaN</td>\n",
       "      <td>NaN</td>\n",
       "      <td>NaN</td>\n",
       "      <td>NaN</td>\n",
       "      <td>NaN</td>\n",
       "      <td>NaN</td>\n",
       "      <td>NaN</td>\n",
       "    </tr>\n",
       "    <tr>\n",
       "      <th>15</th>\n",
       "      <td>4</td>\n",
       "      <td>3.0</td>\n",
       "      <td>исключается</td>\n",
       "      <td>исключаться</td>\n",
       "      <td>VERB</td>\n",
       "      <td>_</td>\n",
       "      <td>Aspect=Imp|Mood=Ind|Number=Sing|Person=3|Tense...</td>\n",
       "      <td>0</td>\n",
       "      <td>root</td>\n",
       "      <td>_</td>\n",
       "      <td>...</td>\n",
       "      <td>NaN</td>\n",
       "      <td>Ind</td>\n",
       "      <td>Pres</td>\n",
       "      <td>Sing</td>\n",
       "      <td>3.0</td>\n",
       "      <td>NaN</td>\n",
       "      <td>NaN</td>\n",
       "      <td>Mid</td>\n",
       "      <td>Fin</td>\n",
       "      <td>Imp</td>\n",
       "    </tr>\n",
       "    <tr>\n",
       "      <th>16</th>\n",
       "      <td>5</td>\n",
       "      <td>3.0</td>\n",
       "      <td>фильтрация</td>\n",
       "      <td>фильтрация</td>\n",
       "      <td>NOUN</td>\n",
       "      <td>_</td>\n",
       "      <td>Animacy=Inan|Case=Nom|Gender=Fem|Number=Sing</td>\n",
       "      <td>4</td>\n",
       "      <td>nsubj</td>\n",
       "      <td>_</td>\n",
       "      <td>...</td>\n",
       "      <td>Fem</td>\n",
       "      <td>NaN</td>\n",
       "      <td>NaN</td>\n",
       "      <td>Sing</td>\n",
       "      <td>NaN</td>\n",
       "      <td>Nom</td>\n",
       "      <td>Inan</td>\n",
       "      <td>NaN</td>\n",
       "      <td>NaN</td>\n",
       "      <td>NaN</td>\n",
       "    </tr>\n",
       "    <tr>\n",
       "      <th>17</th>\n",
       "      <td>6</td>\n",
       "      <td>3.0</td>\n",
       "      <td>воды</td>\n",
       "      <td>вода</td>\n",
       "      <td>NOUN</td>\n",
       "      <td>_</td>\n",
       "      <td>Animacy=Inan|Case=Gen|Gender=Fem|Number=Sing</td>\n",
       "      <td>5</td>\n",
       "      <td>nmod</td>\n",
       "      <td>_</td>\n",
       "      <td>...</td>\n",
       "      <td>Fem</td>\n",
       "      <td>NaN</td>\n",
       "      <td>NaN</td>\n",
       "      <td>Sing</td>\n",
       "      <td>NaN</td>\n",
       "      <td>Gen</td>\n",
       "      <td>Inan</td>\n",
       "      <td>NaN</td>\n",
       "      <td>NaN</td>\n",
       "      <td>NaN</td>\n",
       "    </tr>\n",
       "    <tr>\n",
       "      <th>18</th>\n",
       "      <td>7</td>\n",
       "      <td>3.0</td>\n",
       "      <td>через</td>\n",
       "      <td>через</td>\n",
       "      <td>ADP</td>\n",
       "      <td>_</td>\n",
       "      <td>_</td>\n",
       "      <td>8</td>\n",
       "      <td>case</td>\n",
       "      <td>_</td>\n",
       "      <td>...</td>\n",
       "      <td>NaN</td>\n",
       "      <td>NaN</td>\n",
       "      <td>NaN</td>\n",
       "      <td>NaN</td>\n",
       "      <td>NaN</td>\n",
       "      <td>NaN</td>\n",
       "      <td>NaN</td>\n",
       "      <td>NaN</td>\n",
       "      <td>NaN</td>\n",
       "      <td>NaN</td>\n",
       "    </tr>\n",
       "    <tr>\n",
       "      <th>19</th>\n",
       "      <td>8</td>\n",
       "      <td>3.0</td>\n",
       "      <td>него</td>\n",
       "      <td>он</td>\n",
       "      <td>PRON</td>\n",
       "      <td>_</td>\n",
       "      <td>Case=Gen|Gender=Masc|Number=Sing|Person=3</td>\n",
       "      <td>5</td>\n",
       "      <td>nmod</td>\n",
       "      <td>_</td>\n",
       "      <td>...</td>\n",
       "      <td>Masc</td>\n",
       "      <td>NaN</td>\n",
       "      <td>NaN</td>\n",
       "      <td>Sing</td>\n",
       "      <td>3.0</td>\n",
       "      <td>Gen</td>\n",
       "      <td>NaN</td>\n",
       "      <td>NaN</td>\n",
       "      <td>NaN</td>\n",
       "      <td>NaN</td>\n",
       "    </tr>\n",
       "    <tr>\n",
       "      <th>20</th>\n",
       "      <td>9</td>\n",
       "      <td>3.0</td>\n",
       "      <td>.</td>\n",
       "      <td>.</td>\n",
       "      <td>PUNCT</td>\n",
       "      <td>_</td>\n",
       "      <td>_</td>\n",
       "      <td>4</td>\n",
       "      <td>punct</td>\n",
       "      <td>_</td>\n",
       "      <td>...</td>\n",
       "      <td>NaN</td>\n",
       "      <td>NaN</td>\n",
       "      <td>NaN</td>\n",
       "      <td>NaN</td>\n",
       "      <td>NaN</td>\n",
       "      <td>NaN</td>\n",
       "      <td>NaN</td>\n",
       "      <td>NaN</td>\n",
       "      <td>NaN</td>\n",
       "      <td>NaN</td>\n",
       "    </tr>\n",
       "  </tbody>\n",
       "</table>\n",
       "<p>21 rows × 22 columns</p>\n",
       "</div>"
      ],
      "text/plain": [
       "    id  number_of_sent            form           lemma UPosTag XPosTag  \\\n",
       "0    1             1.0         Поэтому         поэтому     ADV       _   \n",
       "1    2             1.0               в               в     ADP       _   \n",
       "2    3             1.0  фильтрационных  фильтрационный     ADJ       _   \n",
       "3    4             1.0         задачах           задач    NOUN       _   \n",
       "4    5             1.0            этот            этот     DET       _   \n",
       "5    6             1.0           грунт           грунт    NOUN       _   \n",
       "6    7             1.0           можно           можно    VERB       _   \n",
       "7    8             1.0       принимать       принимать    VERB       _   \n",
       "8    9             1.0              за              за     ADP       _   \n",
       "9   10             2.0   относительный   относительный     ADJ       _   \n",
       "10  11             2.0        водоупор        водоупор    NOUN       _   \n",
       "11  12             2.0               .               .   PUNCT       _   \n",
       "12   1             3.0             При             при     ADP       _   \n",
       "13   2             3.0            этом             это    PRON       _   \n",
       "14   3             3.0              не              не    PART       _   \n",
       "15   4             3.0     исключается     исключаться    VERB       _   \n",
       "16   5             3.0      фильтрация      фильтрация    NOUN       _   \n",
       "17   6             3.0            воды            вода    NOUN       _   \n",
       "18   7             3.0           через           через     ADP       _   \n",
       "19   8             3.0            него              он    PRON       _   \n",
       "20   9             3.0               .               .   PUNCT       _   \n",
       "\n",
       "                                                Feats Head  DepRel Deps  \\\n",
       "0                                          Degree=Pos    7  advmod    _   \n",
       "1                                                   _    4    case    _   \n",
       "2                     Case=Loc|Degree=Pos|Number=Plur    4    amod    _   \n",
       "3       Animacy=Inan|Case=Loc|Gender=Masc|Number=Plur    7     obl    _   \n",
       "4       Animacy=Inan|Case=Acc|Gender=Masc|Number=Sing    6     det    _   \n",
       "5       Animacy=Inan|Case=Acc|Gender=Masc|Number=Sing    7     obj    _   \n",
       "6                                          Degree=Pos    0    root    _   \n",
       "7                  Aspect=Perf|VerbForm=Inf|Voice=Act    7   xcomp    _   \n",
       "8                                                   _   11    case    _   \n",
       "9   Animacy=Inan|Case=Acc|Degree=Pos|Gender=Masc|N...   11    amod    _   \n",
       "10      Animacy=Inan|Case=Acc|Gender=Masc|Number=Sing    8     obl    _   \n",
       "11                                                  _    7   punct    _   \n",
       "12                                                  _    2    case    _   \n",
       "13      Animacy=Inan|Case=Loc|Gender=Neut|Number=Sing    4     obl    _   \n",
       "14                                       Polarity=Neg    4  advmod    _   \n",
       "15  Aspect=Imp|Mood=Ind|Number=Sing|Person=3|Tense...    0    root    _   \n",
       "16       Animacy=Inan|Case=Nom|Gender=Fem|Number=Sing    4   nsubj    _   \n",
       "17       Animacy=Inan|Case=Gen|Gender=Fem|Number=Sing    5    nmod    _   \n",
       "18                                                  _    8    case    _   \n",
       "19          Case=Gen|Gender=Masc|Number=Sing|Person=3    5    nmod    _   \n",
       "20                                                  _    4   punct    _   \n",
       "\n",
       "    ...   Gender Mood Tense Number Person Case  Animacy Voice VerbForm Aspect  \n",
       "0   ...      NaN  NaN   NaN    NaN    NaN  NaN      NaN   NaN      NaN    NaN  \n",
       "1   ...      NaN  NaN   NaN    NaN    NaN  NaN      NaN   NaN      NaN    NaN  \n",
       "2   ...      NaN  NaN   NaN   Plur    NaN  Loc      NaN   NaN      NaN    NaN  \n",
       "3   ...     Masc  NaN   NaN   Plur    NaN  Loc     Inan   NaN      NaN    NaN  \n",
       "4   ...     Masc  NaN   NaN   Sing    NaN  Acc     Inan   NaN      NaN    NaN  \n",
       "5   ...     Masc  NaN   NaN   Sing    NaN  Acc     Inan   NaN      NaN    NaN  \n",
       "6   ...      NaN  NaN   NaN    NaN    NaN  NaN      NaN   NaN      NaN    NaN  \n",
       "7   ...      NaN  NaN   NaN    NaN    NaN  NaN      NaN   Act      inf   Perf  \n",
       "8   ...      NaN  NaN   NaN    NaN    NaN  NaN      NaN   NaN      NaN    NaN  \n",
       "9   ...     Masc  NaN   NaN   Sing    NaN  Acc     Inan   NaN      NaN    NaN  \n",
       "10  ...     Masc  NaN   NaN   Sing    NaN  Acc     Inan   NaN      NaN    NaN  \n",
       "11  ...      NaN  NaN   NaN    NaN    NaN  NaN      NaN   NaN      NaN    NaN  \n",
       "12  ...      NaN  NaN   NaN    NaN    NaN  NaN      NaN   NaN      NaN    NaN  \n",
       "13  ...     Neut  NaN   NaN   Sing    NaN  Loc     Inan   NaN      NaN    NaN  \n",
       "14  ...      NaN  NaN   NaN    NaN    NaN  NaN      NaN   NaN      NaN    NaN  \n",
       "15  ...      NaN  Ind  Pres   Sing    3.0  NaN      NaN   Mid      Fin    Imp  \n",
       "16  ...      Fem  NaN   NaN   Sing    NaN  Nom     Inan   NaN      NaN    NaN  \n",
       "17  ...      Fem  NaN   NaN   Sing    NaN  Gen     Inan   NaN      NaN    NaN  \n",
       "18  ...      NaN  NaN   NaN    NaN    NaN  NaN      NaN   NaN      NaN    NaN  \n",
       "19  ...     Masc  NaN   NaN   Sing    3.0  Gen      NaN   NaN      NaN    NaN  \n",
       "20  ...      NaN  NaN   NaN    NaN    NaN  NaN      NaN   NaN      NaN    NaN  \n",
       "\n",
       "[21 rows x 22 columns]"
      ]
     },
     "execution_count": 521,
     "metadata": {},
     "output_type": "execute_result"
    }
   ],
   "source": [
    "data"
   ]
  },
  {
   "cell_type": "code",
   "execution_count": 522,
   "metadata": {},
   "outputs": [],
   "source": [
    "#поиск местоимения, которое можно заменить\n",
    "indexes = list()\n",
    "for i in range(data.shape[0]):\n",
    "    if data.UPosTag.iloc[i] == 'PRON' and data.Person.iloc[i]==3:\n",
    "        indexes.append(i)"
   ]
  },
  {
   "cell_type": "code",
   "execution_count": 523,
   "metadata": {},
   "outputs": [
    {
     "name": "stdout",
     "output_type": "stream",
     "text": [
      "[19]\n"
     ]
    }
   ],
   "source": [
    "print(indexes)"
   ]
  },
  {
   "cell_type": "code",
   "execution_count": 524,
   "metadata": {},
   "outputs": [],
   "source": [
    "data_for_predict = pd.DataFrame()\n",
    "forms = list()\n",
    "for i in range(len(indexes)):\n",
    "    #для каждого местимения находим возможные noun\n",
    "    for j in range(data.shape[0]):\n",
    "        if (data.UPosTag.iloc[j] == 'NOUN' or data.UPosTag.iloc[j] == 'PROPN') and pd.np.abs(indexes[i]-j) <= 10:\n",
    "            forms.append(data.form.iloc[j])\n",
    "            data_for_predict = data_for_predict.append({\n",
    "                'UPosTag': data.UPosTag.iloc[j],\n",
    "                'Animacy': data.Animacy.iloc[j],\n",
    "                'Number': data.Number.iloc[j],\n",
    "                'Case': data.Case.iloc[j],\n",
    "                'Gender': data.Gender.iloc[j],\n",
    "                'UPosTag.1': data.UPosTag.iloc[indexes[i]],\n",
    "                'Number.1': data.Number.iloc[indexes[i]],\n",
    "                'Person': data.Person.iloc[indexes[i]],\n",
    "                'Case.1': data.Case.iloc[indexes[i]],\n",
    "                'Gender.1': data.Gender.iloc[indexes[i]],\n",
    "                'delta': pd.np.abs(indexes[i]-j)\n",
    "            }, ignore_index=True)"
   ]
  },
  {
   "cell_type": "code",
   "execution_count": 525,
   "metadata": {},
   "outputs": [
    {
     "data": {
      "text/html": [
       "<div>\n",
       "<style scoped>\n",
       "    .dataframe tbody tr th:only-of-type {\n",
       "        vertical-align: middle;\n",
       "    }\n",
       "\n",
       "    .dataframe tbody tr th {\n",
       "        vertical-align: top;\n",
       "    }\n",
       "\n",
       "    .dataframe thead th {\n",
       "        text-align: right;\n",
       "    }\n",
       "</style>\n",
       "<table border=\"1\" class=\"dataframe\">\n",
       "  <thead>\n",
       "    <tr style=\"text-align: right;\">\n",
       "      <th></th>\n",
       "      <th>Animacy</th>\n",
       "      <th>Case</th>\n",
       "      <th>Case.1</th>\n",
       "      <th>Gender</th>\n",
       "      <th>Gender.1</th>\n",
       "      <th>Number</th>\n",
       "      <th>Number.1</th>\n",
       "      <th>Person</th>\n",
       "      <th>UPosTag</th>\n",
       "      <th>UPosTag.1</th>\n",
       "      <th>delta</th>\n",
       "    </tr>\n",
       "  </thead>\n",
       "  <tbody>\n",
       "    <tr>\n",
       "      <th>0</th>\n",
       "      <td>Inan</td>\n",
       "      <td>Acc</td>\n",
       "      <td>Gen</td>\n",
       "      <td>Masc</td>\n",
       "      <td>Masc</td>\n",
       "      <td>Sing</td>\n",
       "      <td>Sing</td>\n",
       "      <td>3.0</td>\n",
       "      <td>NOUN</td>\n",
       "      <td>PRON</td>\n",
       "      <td>9.0</td>\n",
       "    </tr>\n",
       "    <tr>\n",
       "      <th>1</th>\n",
       "      <td>Inan</td>\n",
       "      <td>Nom</td>\n",
       "      <td>Gen</td>\n",
       "      <td>Fem</td>\n",
       "      <td>Masc</td>\n",
       "      <td>Sing</td>\n",
       "      <td>Sing</td>\n",
       "      <td>3.0</td>\n",
       "      <td>NOUN</td>\n",
       "      <td>PRON</td>\n",
       "      <td>3.0</td>\n",
       "    </tr>\n",
       "    <tr>\n",
       "      <th>2</th>\n",
       "      <td>Inan</td>\n",
       "      <td>Gen</td>\n",
       "      <td>Gen</td>\n",
       "      <td>Fem</td>\n",
       "      <td>Masc</td>\n",
       "      <td>Sing</td>\n",
       "      <td>Sing</td>\n",
       "      <td>3.0</td>\n",
       "      <td>NOUN</td>\n",
       "      <td>PRON</td>\n",
       "      <td>2.0</td>\n",
       "    </tr>\n",
       "  </tbody>\n",
       "</table>\n",
       "</div>"
      ],
      "text/plain": [
       "  Animacy Case Case.1 Gender Gender.1 Number Number.1  Person UPosTag  \\\n",
       "0    Inan  Acc    Gen   Masc     Masc   Sing     Sing     3.0    NOUN   \n",
       "1    Inan  Nom    Gen    Fem     Masc   Sing     Sing     3.0    NOUN   \n",
       "2    Inan  Gen    Gen    Fem     Masc   Sing     Sing     3.0    NOUN   \n",
       "\n",
       "  UPosTag.1  delta  \n",
       "0      PRON    9.0  \n",
       "1      PRON    3.0  \n",
       "2      PRON    2.0  "
      ]
     },
     "execution_count": 525,
     "metadata": {},
     "output_type": "execute_result"
    }
   ],
   "source": [
    " data_for_predict"
   ]
  },
  {
   "cell_type": "code",
   "execution_count": 526,
   "metadata": {},
   "outputs": [],
   "source": [
    "data_for_predict = data_for_predict[['UPosTag', 'Animacy', 'Number', 'Case', 'Gender', 'UPosTag.1', 'Number.1',\n",
    "                                    'Person', 'Case.1', 'Gender.1', 'delta']]"
   ]
  },
  {
   "cell_type": "code",
   "execution_count": 527,
   "metadata": {},
   "outputs": [],
   "source": [
    "data_for_predict = data_for_predict.fillna(' ')"
   ]
  },
  {
   "cell_type": "code",
   "execution_count": 528,
   "metadata": {},
   "outputs": [],
   "source": [
    "predict_dataset = Pool(data=data_for_predict,\n",
    "                    cat_features=cat_features)"
   ]
  },
  {
   "cell_type": "code",
   "execution_count": 529,
   "metadata": {},
   "outputs": [],
   "source": [
    "predicted = modelCB.predict_proba(data_for_predict)"
   ]
  },
  {
   "cell_type": "code",
   "execution_count": 530,
   "metadata": {},
   "outputs": [],
   "source": [
    "predicted = pd.DataFrame(predicted)"
   ]
  },
  {
   "cell_type": "code",
   "execution_count": 531,
   "metadata": {},
   "outputs": [
    {
     "data": {
      "text/plain": [
       "0    0.568609\n",
       "1    0.394278\n",
       "2    0.492380\n",
       "Name: 1, dtype: float64"
      ]
     },
     "execution_count": 531,
     "metadata": {},
     "output_type": "execute_result"
    }
   ],
   "source": [
    "predicted.iloc[:,1]"
   ]
  },
  {
   "cell_type": "code",
   "execution_count": 532,
   "metadata": {},
   "outputs": [
    {
     "name": "stdout",
     "output_type": "stream",
     "text": [
      "Заменить него на водоупор\n"
     ]
    }
   ],
   "source": [
    "print('Заменить', data.form.iloc[indexes[0]],  'на', forms[pd.np.argmax(predicted.iloc[:,1].values)])"
   ]
  },
  {
   "cell_type": "code",
   "execution_count": 533,
   "metadata": {},
   "outputs": [],
   "source": [
    "import matplotlib.pyplot as plt\n",
    "%matplotlib inline"
   ]
  },
  {
   "cell_type": "code",
   "execution_count": 534,
   "metadata": {},
   "outputs": [
    {
     "data": {
      "text/plain": [
       "<BarContainer object of 10 artists>"
      ]
     },
     "execution_count": 534,
     "metadata": {},
     "output_type": "execute_result"
    },
    {
     "data": {
      "image/png": "[encoded data removed]",
      "text/plain": [
       "<Figure size 432x288 with 1 Axes>"
      ]
     },
     "metadata": {
      "needs_background": "light"
     },
     "output_type": "display_data"
    }
   ],
   "source": [
    "plt.title('Важность фич')\n",
    "plt.barh(x_data.columns, modelCB.feature_importances_)"
   ]
  },
  {
   "cell_type": "markdown",
   "metadata": {},
   "source": [
    "### # Пример разрешения анафоры с учета расстояния между возможными парами Референт-Анафор"
   ]
  },
  {
   "cell_type": "code",
   "execution_count": 535,
   "metadata": {},
   "outputs": [],
   "source": [
    "data = pd.read_csv('final_1.csv')"
   ]
  },
  {
   "cell_type": "code",
   "execution_count": 536,
   "metadata": {},
   "outputs": [],
   "source": [
    "data = data.fillna(' ')"
   ]
  },
  {
   "cell_type": "code",
   "execution_count": 537,
   "metadata": {},
   "outputs": [],
   "source": [
    "y_data =  data['label']"
   ]
  },
  {
   "cell_type": "code",
   "execution_count": 538,
   "metadata": {},
   "outputs": [],
   "source": [
    "x_data = data.drop(labels=['label', 'Unnamed: 0'], axis=1)"
   ]
  },
  {
   "cell_type": "code",
   "execution_count": 539,
   "metadata": {},
   "outputs": [],
   "source": [
    "X_train, X_test, y_train, y_test = train_test_split(x_data, y_data, test_size=0.2)"
   ]
  },
  {
   "cell_type": "code",
   "execution_count": 540,
   "metadata": {},
   "outputs": [],
   "source": [
    "modelCB = CatBoostClassifier(iterations=10, depth=4)"
   ]
  },
  {
   "cell_type": "code",
   "execution_count": 541,
   "metadata": {},
   "outputs": [],
   "source": [
    "train_dataset = Pool(data=X_train,\n",
    "                     label=y_train,\n",
    "                     cat_features=cat_features)\n",
    "\n",
    "test_dataset = Pool(data=X_test,\n",
    "                    label=y_test,\n",
    "                    cat_features=cat_features)"
   ]
  },
  {
   "cell_type": "code",
   "execution_count": 542,
   "metadata": {},
   "outputs": [
    {
     "name": "stdout",
     "output_type": "stream",
     "text": [
      "Learning rate set to 0.5\n",
      "0:\tlearn: 0.6230546\ttotal: 2.16ms\tremaining: 19.4ms\n",
      "1:\tlearn: 0.5906181\ttotal: 5.51ms\tremaining: 22.1ms\n",
      "2:\tlearn: 0.5500516\ttotal: 8.62ms\tremaining: 20.1ms\n",
      "3:\tlearn: 0.5317616\ttotal: 10.8ms\tremaining: 16.2ms\n",
      "4:\tlearn: 0.5124015\ttotal: 13ms\tremaining: 13ms\n",
      "5:\tlearn: 0.5050391\ttotal: 17.2ms\tremaining: 11.5ms\n",
      "6:\tlearn: 0.5041127\ttotal: 20ms\tremaining: 8.58ms\n",
      "7:\tlearn: 0.4926135\ttotal: 22.5ms\tremaining: 5.62ms\n",
      "8:\tlearn: 0.4842353\ttotal: 25.4ms\tremaining: 2.82ms\n",
      "9:\tlearn: 0.4738028\ttotal: 27.6ms\tremaining: 0us\n"
     ]
    },
    {
     "data": {
      "text/plain": [
       "<catboost.core.CatBoostClassifier at 0x7f6fe0031fd0>"
      ]
     },
     "execution_count": 542,
     "metadata": {},
     "output_type": "execute_result"
    }
   ],
   "source": [
    "modelCB.fit(train_dataset)"
   ]
  },
  {
   "cell_type": "code",
   "execution_count": 543,
   "metadata": {},
   "outputs": [],
   "source": [
    "predicted = modelCB.predict(test_dataset)"
   ]
  },
  {
   "cell_type": "code",
   "execution_count": 544,
   "metadata": {},
   "outputs": [],
   "source": [
    "text = 'Маша любит клубнику. Она вкусная.'"
   ]
  },
  {
   "cell_type": "code",
   "execution_count": 545,
   "metadata": {},
   "outputs": [
    {
     "name": "stderr",
     "output_type": "stream",
     "text": [
      "/usr/local/lib/python3.7/site-packages/ipykernel_launcher.py:33: SettingWithCopyWarning: \n",
      "A value is trying to be set on a copy of a slice from a DataFrame\n",
      "\n",
      "See the caveats in the documentation: http://pandas.pydata.org/pandas-docs/stable/indexing.html#indexing-view-versus-copy\n"
     ]
    }
   ],
   "source": [
    "data = text2pdudpipe(text, model, pipeline)"
   ]
  },
  {
   "cell_type": "code",
   "execution_count": 546,
   "metadata": {},
   "outputs": [],
   "source": [
    "#поиск местоимения, которое можно заменить\n",
    "indexes = list()\n",
    "for i in range(data.shape[0]):\n",
    "    if data.UPosTag.iloc[i] == 'PRON' and data.Person.iloc[i]==3:\n",
    "        indexes.append(i)"
   ]
  },
  {
   "cell_type": "code",
   "execution_count": 547,
   "metadata": {},
   "outputs": [],
   "source": [
    "data_for_predict = pd.DataFrame()\n",
    "forms = list()\n",
    "for i in range(len(indexes)):\n",
    "    #для каждого местимения находим возможные noun\n",
    "    for j in range(data.shape[0]):\n",
    "        if (data.UPosTag.iloc[j] == 'NOUN' or data.UPosTag.iloc[j] == 'PROPN') and pd.np.abs(indexes[i]-j) <= 10:\n",
    "            forms.append(data.form.iloc[j])\n",
    "            data_for_predict = data_for_predict.append({\n",
    "                'UPosTag': data.UPosTag.iloc[j],\n",
    "                'Animacy': data.Animacy.iloc[j],\n",
    "                'Number': data.Number.iloc[j],\n",
    "                'Case': data.Case.iloc[j],\n",
    "                'Gender': data.Gender.iloc[j],\n",
    "                'UPosTag.1': data.UPosTag.iloc[indexes[i]],\n",
    "                'Number.1': data.Number.iloc[indexes[i]],\n",
    "                'Person': data.Person.iloc[indexes[i]],\n",
    "                'Case.1': data.Case.iloc[indexes[i]],\n",
    "                'Gender.1': data.Gender.iloc[indexes[i]],\n",
    "                'delta': pd.np.abs(indexes[i]-j)\n",
    "            }, ignore_index=True)"
   ]
  },
  {
   "cell_type": "code",
   "execution_count": 548,
   "metadata": {},
   "outputs": [],
   "source": [
    "data_for_predict = data_for_predict[['UPosTag', 'Animacy', 'Number', 'Case', 'Gender', 'UPosTag.1', 'Number.1',\n",
    "                                    'Person', 'Case.1', 'Gender.1', 'delta']]"
   ]
  },
  {
   "cell_type": "code",
   "execution_count": 549,
   "metadata": {},
   "outputs": [],
   "source": [
    "predict_dataset = Pool(data=data_for_predict,\n",
    "                    cat_features=cat_features)"
   ]
  },
  {
   "cell_type": "code",
   "execution_count": 550,
   "metadata": {},
   "outputs": [],
   "source": [
    "predicted = modelCB.predict_proba(data_for_predict)"
   ]
  },
  {
   "cell_type": "code",
   "execution_count": 551,
   "metadata": {},
   "outputs": [],
   "source": [
    "predicted = pd.DataFrame(predicted)"
   ]
  },
  {
   "cell_type": "code",
   "execution_count": 552,
   "metadata": {},
   "outputs": [
    {
     "data": {
      "text/html": [
       "<div>\n",
       "<style scoped>\n",
       "    .dataframe tbody tr th:only-of-type {\n",
       "        vertical-align: middle;\n",
       "    }\n",
       "\n",
       "    .dataframe tbody tr th {\n",
       "        vertical-align: top;\n",
       "    }\n",
       "\n",
       "    .dataframe thead th {\n",
       "        text-align: right;\n",
       "    }\n",
       "</style>\n",
       "<table border=\"1\" class=\"dataframe\">\n",
       "  <thead>\n",
       "    <tr style=\"text-align: right;\">\n",
       "      <th></th>\n",
       "      <th>0</th>\n",
       "      <th>1</th>\n",
       "    </tr>\n",
       "  </thead>\n",
       "  <tbody>\n",
       "    <tr>\n",
       "      <th>0</th>\n",
       "      <td>0.713492</td>\n",
       "      <td>0.286508</td>\n",
       "    </tr>\n",
       "    <tr>\n",
       "      <th>1</th>\n",
       "      <td>0.642972</td>\n",
       "      <td>0.357028</td>\n",
       "    </tr>\n",
       "  </tbody>\n",
       "</table>\n",
       "</div>"
      ],
      "text/plain": [
       "          0         1\n",
       "0  0.713492  0.286508\n",
       "1  0.642972  0.357028"
      ]
     },
     "execution_count": 552,
     "metadata": {},
     "output_type": "execute_result"
    }
   ],
   "source": [
    "predicted"
   ]
  },
  {
   "cell_type": "code",
   "execution_count": 553,
   "metadata": {},
   "outputs": [
    {
     "name": "stdout",
     "output_type": "stream",
     "text": [
      "Заменить Она на клубнику\n"
     ]
    }
   ],
   "source": [
    "print('Заменить', data.form.iloc[indexes[0]],  'на', forms[pd.np.argmax(predicted.iloc[:,1].values)])"
   ]
  },
  {
   "cell_type": "code",
   "execution_count": 554,
   "metadata": {},
   "outputs": [
    {
     "data": {
      "text/plain": [
       "<BarContainer object of 11 artists>"
      ]
     },
     "execution_count": 554,
     "metadata": {},
     "output_type": "execute_result"
    },
    {
     "data": {
      "image/png": "[encoded data removed]",
      "text/plain": [
       "<Figure size 432x288 with 1 Axes>"
      ]
     },
     "metadata": {
      "needs_background": "light"
     },
     "output_type": "display_data"
    }
   ],
   "source": [
    "plt.title('Важность фич')\n",
    "plt.barh(x_data.columns, modelCB.feature_importances_)"
   ]
  },
  {
   "cell_type": "code",
   "execution_count": null,
   "metadata": {},
   "outputs": [],
   "source": []
  }
 ],
 "metadata": {
  "kernelspec": {
   "display_name": "Python 3",
   "language": "python",
   "name": "python3"
  },
  "language_info": {
   "codemirror_mode": {
    "name": "ipython",
    "version": 3
   },
   "file_extension": ".py",
   "mimetype": "text/x-python",
   "name": "python",
   "nbconvert_exporter": "python",
   "pygments_lexer": "ipython3",
   "version": "3.7.3"
  }
 },
 "nbformat": 4,
 "nbformat_minor": 2
}
